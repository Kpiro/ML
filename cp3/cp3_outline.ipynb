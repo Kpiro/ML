{
 "cells": [
  {
   "cell_type": "markdown",
   "metadata": {},
   "source": [
    "# Clase Práctica 3.\n",
    "\n",
    "### Modelos de aprendizaje profundo y modelos pre-entrenados."
   ]
  },
  {
   "cell_type": "markdown",
   "metadata": {},
   "source": [
    "#### Outline \n",
    "\n",
    "1. [Modelación: Character recognition.](#ejercicio-1)\n",
    "2. [Digits classification](digits.ipynb)\n",
    "3. [Digits classification CNN](digits_cnn.ipynb)\n",
    "4. [Transfer learning](digits_tl.ipynb).\n",
    "5. Clasificación de imágenes vs. detección de objetos vs. segmentación.\n",
    "6. Detección de objetos. Modelación.\n",
    "7. [Zero-shot and few-shot learning](Zero_Shot.ipynb)."
   ]
  },
  {
   "cell_type": "markdown",
   "metadata": {},
   "source": [
    "## Ejercicio 1\n",
    "**Problema:**\n",
    "\n",
    "En un país como Cuba, muchas instituciones públicas todavía dependen de registros en papel, lo que dificulta la búsqueda y el análisis rápido de información. \n",
    "Para modernizar estos procesos, se desea implementar un sistema que automatice la digitalización de documentos escritos a mano."
   ]
  }
 ],
 "metadata": {
  "language_info": {
   "name": "python"
  }
 },
 "nbformat": 4,
 "nbformat_minor": 2
}
